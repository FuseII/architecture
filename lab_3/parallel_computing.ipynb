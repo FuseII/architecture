{
 "cells": [
  {
   "cell_type": "code",
   "id": "initial_id",
   "metadata": {
    "collapsed": true,
    "ExecuteTime": {
     "end_time": "2024-11-21T15:19:26.183878Z",
     "start_time": "2024-11-21T15:19:26.162653Z"
    }
   },
   "source": [
    "import time\n",
    "from multiprocessing import Pool"
   ],
   "outputs": [],
   "execution_count": 1
  },
  {
   "metadata": {
    "ExecuteTime": {
     "end_time": "2024-11-21T15:20:43.052479700Z",
     "start_time": "2024-11-21T15:19:26.848915Z"
    }
   },
   "cell_type": "code",
   "source": [
    "def factorial_part(start, end):\n",
    "    \"\"\"Вычисляет произведение чисел от start до end (включительно).\"\"\"\n",
    "    result = 1\n",
    "    for i in range(start, end + 1):\n",
    "        result *= i\n",
    "    return result\n",
    "\n",
    "def parallel_factorial(n, num_processes):\n",
    "    \"\"\"Вычисляет факториал числа n с использованием параллельных процессов.\"\"\"\n",
    "    # Разделяем диапазон на части\n",
    "    chunk_size = n // num_processes\n",
    "    ranges = [(i * chunk_size + 1, (i + 1) * chunk_size) for i in range(num_processes)]\n",
    "    \n",
    "    # Обрабатываем последний диапазон\n",
    "    ranges[-1] = (ranges[-1][0], n)\n",
    "    \n",
    "    # Создаем пул процессов\n",
    "    with Pool(processes=num_processes) as pool:\n",
    "        # Вычисляем факториалы для каждой части\n",
    "        results = pool.starmap(factorial_part, ranges)\n",
    "    \n",
    "    # Перемножаем результаты\n",
    "    final_result = 1\n",
    "    for result in results:\n",
    "        final_result *= result\n",
    "    \n",
    "    return final_result\n",
    "\n",
    "# Задаем число для вычисления факториала\n",
    "n = 10\n",
    "num_processes = 4  # Количество процессов\n",
    "\n",
    "# Начинаем измерение времени\n",
    "start_time = time.time()\n",
    "\n",
    "# Вычисляем факториал параллельно\n",
    "# fact = parallel_factorial(n, num_processes)\n",
    "\n",
    "# Заканчиваем измерение времени\n",
    "end_time = time.time()\n",
    "# fact = factorial_part(start=1, end=5)\n",
    "fact = parallel_factorial(n = 5, num_processes = 1)\n",
    "# Выводим результат\n",
    "print(f\"Факториал числа {n} равен {fact}\")\n",
    "print(f\"Время выполнения: {end_time - start_time:.6f} секунд\")"
   ],
   "id": "86588defa99b022f",
   "outputs": [],
   "execution_count": null
  },
  {
   "metadata": {
    "jupyter": {
     "is_executing": true
    }
   },
   "cell_type": "code",
   "source": [
    "#!/usr/bin/env python3\n",
    "import time \n",
    "from multiprocessing import Pool\n",
    "import itertools\n",
    "def fact(n):\n",
    "    if n==1:\n",
    "        return 1\n",
    "    else:\n",
    "        a=n*fact(n-1)\n",
    "        return a\n",
    "\n",
    "def divid(start ,end):\n",
    "    m=1\n",
    "    print(\"in divid\")\n",
    "    for i in range(start,end+1):\n",
    "        m=m*i\n",
    "    return m\n",
    "\n",
    "pool=Pool()\n",
    "\n",
    "a=time.time()\n",
    "res=fact(100)\n",
    "print (res)\n",
    "print (\"Time spent calculating factorial\",(time.time()-a)*60)\n",
    "\n",
    "a=time.time()\n",
    "L = pool.starmap(divid,[(1,20),(21,40),(41,60),(61,80),(81,100)] )\n",
    "\n",
    "m=1\n",
    "for i in list(L):\n",
    "    m=m*i\n",
    "print (\"Result is\",m)\n",
    "\n",
    "print(\"Time spent calculating factorial using multiprocessing\",(time.time()-a)*60)"
   ],
   "id": "227771d1df2b79e4",
   "outputs": [],
   "execution_count": null
  },
  {
   "metadata": {},
   "cell_type": "code",
   "outputs": [],
   "execution_count": null,
   "source": "",
   "id": "82c29a22ea11ea0b"
  },
  {
   "metadata": {},
   "cell_type": "code",
   "outputs": [],
   "execution_count": null,
   "source": "",
   "id": "be3448b403a731f3"
  }
 ],
 "metadata": {
  "kernelspec": {
   "display_name": "Python 3",
   "language": "python",
   "name": "python3"
  },
  "language_info": {
   "codemirror_mode": {
    "name": "ipython",
    "version": 2
   },
   "file_extension": ".py",
   "mimetype": "text/x-python",
   "name": "python",
   "nbconvert_exporter": "python",
   "pygments_lexer": "ipython2",
   "version": "2.7.6"
  }
 },
 "nbformat": 4,
 "nbformat_minor": 5
}
